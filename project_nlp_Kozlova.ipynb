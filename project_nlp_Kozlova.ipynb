{
  "cells": [
    {
      "cell_type": "markdown",
      "metadata": {
        "id": "view-in-github",
        "colab_type": "text"
      },
      "source": [
        "<a href=\"https://colab.research.google.com/github/hideousmaiden/youngtyp_corpora/blob/main/project_nlp_Kozlova.ipynb\" target=\"_parent\"><img src=\"https://colab.research.google.com/assets/colab-badge.svg\" alt=\"Open In Colab\"/></a>"
      ]
    },
    {
      "cell_type": "code",
      "execution_count": null,
      "metadata": {
        "id": "mAjJJW-Z08xZ"
      },
      "outputs": [],
      "source": [
        "# !pip install pdfplumber"
      ]
    },
    {
      "cell_type": "code",
      "execution_count": null,
      "metadata": {
        "id": "zi_6kfFN00j5"
      },
      "outputs": [],
      "source": [
        "import requests\n",
        "from bs4 import BeautifulSoup\n",
        "import pdfplumber\n",
        "import re\n",
        "import os\n",
        "import json"
      ]
    },
    {
      "cell_type": "code",
      "execution_count": null,
      "metadata": {
        "id": "n7xxJpBo00kO"
      },
      "outputs": [],
      "source": [
        "session = requests.session()"
      ]
    },
    {
      "cell_type": "code",
      "execution_count": null,
      "metadata": {
        "id": "XjVIDM6938EY"
      },
      "outputs": [],
      "source": [
        "def intToRoman(num):  # to convert arabic numbers into roman\n",
        "    rules = ((\"L\", 50), (\"XL\", 40), (\"XXX\", 30), (\"XX\", 20), (\"X\", 10), (\"IX\", 9), (\"V\", 5), (\"IV\", 4), (\"I\", 1),)\n",
        "    res = \"\"\n",
        "    for suf, val in rules:\n",
        "        while num >= val:\n",
        "            num -= val\n",
        "            res += suf     \n",
        "    return res"
      ]
    },
    {
      "cell_type": "code",
      "execution_count": null,
      "metadata": {
        "id": "YgMx4wFUhc1C"
      },
      "outputs": [],
      "source": [
        "def download_pdf(link):  # to download the pdf file\n",
        "    req = session.get(link)\n",
        "    page = req.text\n",
        "    soup = BeautifulSoup(page, 'html.parser')\n",
        "    texts = soup.find_all('p', {'style': 'text-align: center;'})\n",
        "    links = []\n",
        "    for text in texts:\n",
        "        if 'Тезисы' in text.text:\n",
        "            for link in text.find_all('a'):\n",
        "                links.append(link.get('href'))\n",
        "    url_theses = links[1]\n",
        "    res = requests.get(url_theses)\n",
        "    return res.content"
      ]
    },
    {
      "cell_type": "code",
      "execution_count": null,
      "metadata": {
        "id": "32t-4lLriLT8"
      },
      "outputs": [],
      "source": [
        "def clear_end(txt):  # to cut the beginning and the end of the book\n",
        "    if 'Издательство «Нестор-История»' in txt:\n",
        "        txt = txt.split('Издательство «Нестор-История»')[1].strip(', \\n')\n",
        "    if 'Д о к л а д ы\\n' in txt:\n",
        "        txt = txt.split('Д о к л а д ы\\n')[1].strip()\n",
        "    if 'Доклады\\n' in txt:\n",
        "        txt = txt.split('Доклады\\n')[1].strip()\n",
        "    if '\\nТезисы докладов\\n' in txt:\n",
        "        txt = txt.split('Тезисы докладов\\n')[1].strip()\n",
        "    if 'ИЛИ РАН,\\n' in txt:\n",
        "        txt = txt.split('ИЛИ РАН,\\n')[1].strip()\n",
        "    if 'Часть I\\n' in txt:\n",
        "        txt = txt.split('Часть I\\n')[1].strip()\n",
        "    return txt"
      ]
    },
    {
      "cell_type": "code",
      "execution_count": null,
      "metadata": {
        "id": "IAOD65QA4l9e"
      },
      "outputs": [],
      "source": [
        "for i in range(4, 19):  # downloading PDF-files\n",
        "    if i == 16 or i == 8:\n",
        "        continue\n",
        "    if not os.path.exists(f'theses_{2003 + i}/'):  # creating a folder for each year\n",
        "        os.mkdir(f'theses_{2003 + i}/')\n",
        "    if i == 18:\n",
        "        url = f'https://www.youngconfspb.com/proshedshie-konferencii/{intToRoman(i).lower()}-konferenciya-{2003 + i}-g'\n",
        "    else:\n",
        "        url = f'https://www.youngconfspb.com/{intToRoman(i).lower()}-konferenciya-{2003 + i}-g'\n",
        "    response = download_pdf(url)\n",
        "    with open(f'theses_{2003 + i}/theses_{2003 + i}.pdf', \"wb\") as f:\n",
        "        f.write(response)"
      ]
    },
    {
      "cell_type": "code",
      "execution_count": null,
      "metadata": {
        "id": "_kDPBXRy00ka"
      },
      "outputs": [],
      "source": [
        "for j in range(2007, 2022):\n",
        "    if j == 2019 or j == 2011:\n",
        "        continue\n",
        "    end_text = ''\n",
        "    with pdfplumber.open(f'theses_{j}/theses_{j}.pdf') as pdf:  # opening PDF-file as TXT\n",
        "        for p in range(len(pdf.pages)):  # clearing the text\n",
        "            page = pdf.pages[p]\n",
        "            text = page.extract_text()\n",
        "            text = text.strip().strip('1234567890').strip()\n",
        "            text = text.split('\\n')\n",
        "            for part in text:\n",
        "                part = part.strip()\n",
        "                if part.endswith('-'):\n",
        "                    part = part.rstrip('-')\n",
        "                    end_text += part\n",
        "                else:\n",
        "                    end_text += '\\n' + part\n",
        "                end_text = end_text.strip()\n",
        "    if j == 2010:  # cutting ends again\n",
        "        end_text = 'СОДЕРЖАНИЕ'.join(end_text.split('СОДЕРЖАНИЕ')[:-1])\n",
        "    elif j == 2012:\n",
        "        end_text = end_text.split('СОДЕРЖАНИЕ')[1].split('.......................................')[-1].strip('0123456789').strip()\n",
        "    else:                                \n",
        "        end_text = end_text.split('ОГЛАВЛЕНИЕ')[0].split('СОДЕРЖАНИЕ')[0]\n",
        "    with open(f'theses_{j}/theses_{j}.txt', 'w', encoding='utf-8') as file:  # writing texts in the file\n",
        "        file.write(clear_end(end_text))"
      ]
    },
    {
      "cell_type": "code",
      "execution_count": null,
      "metadata": {
        "id": "FNAezGEIBbjm"
      },
      "outputs": [],
      "source": [
        "dic_of_json = {}\n",
        "for j in range(2007, 2022):\n",
        "    if j == 2019 or j == 2011:\n",
        "        continue\n",
        "    with open(f'theses_{j}/theses_{j}.txt', 'r', encoding='utf-8') as f:  # parsing texts\n",
        "        text_theses = f.read()\n",
        "        texts = re.split(r'\\n(Литература|Библиография)', text_theses)  # split by the Bibliography\n",
        "        for index, text in enumerate(texts):\n",
        "            if 'Bibliography' in text:  # if in English - skip\n",
        "                continue\n",
        "            if re.search(r'\\n[А-ЯЁ]\\.? [А-ЯЁ]\\.? [^\\s]*', text):  # searching for names\n",
        "                start = re.search(r'\\n[А-ЯЁ]\\.? [А-ЯЁ]\\.? [^\\s]*', text).span()[0]  # name as a start-point\n",
        "                text = text[start:].strip().split('\\nСокращения')[0].split('\\nСписок условных сокращений')[0].split('\\nГлоссы')[0].split('\\nСписок глосс')[0]  # cleaning from abbreviations\n",
        "                text = re.sub(r\"\\n\\(\\d+[a-eа-г]?'*\\)[^‘]+‘[^’]+?’\\.?\", '\\n', text)  # glosses-deletion\n",
        "                text = re.sub(r\"\\n\\(\\d+'*\\)[^.]+?\\.?\", '\\n', text)  # glosses-deletion\n",
        "                text = re.sub(r'\\n\\D+(\\d{4}) — (.|\\n)+?\\d\\)?\\.\\n', '', text)  # deletion of bibliography residuals\n",
        "                text = re.sub(r'\\n[a-e]\\.[^‘]+?‘[^’]+?’', '', text)  # glosses-deletion\n",
        "                text_parts = text.split('\\n')\n",
        "                if len(text_parts) > 2 and not text_parts[2].isupper():  # finding name, title and affiliation (sorry for typos...)\n",
        "                    for ind in range(2, len(text_parts)):\n",
        "                        if text_parts[ind] and text_parts[ind].isupper() and ',' in text_parts[ind - 1] or 'Москва' in text_parts[ind - 1] or 'Санкт-Петербург' in text_parts[ind - 1]:\n",
        "                            text_parts = text_parts[ind - 2:]\n",
        "                            splitted_affilation = text_parts[ind - 1].strip().split(' ')\n",
        "                            if len(splitted_affilation[-1]) > 2 and not (splitted_affilation[-1][0].isupper() and splitted_affilation[-1][1].islower()):\n",
        "                                for s_af in range(len(splitted_affilation) - 1, -1, -1):\n",
        "                                    if len(splitted_affilation[s_af]) > 2 and splitted_affilation[s_af][0].isupper() and splitted_affilation[s_af][1].islower():\n",
        "                                        affilation = ' '.join(splitted_affilation[:s_af + 1])\n",
        "                            else:\n",
        "                                affilation = text_parts[ind - 1].strip()\n",
        "                            name = text_parts[ind - 2].strip()\n",
        "                            break\n",
        "                else:\n",
        "                    affilation = text_parts[1].strip()\n",
        "                    name = text_parts[0].strip()\n",
        "                ind = 2\n",
        "                title = ''\n",
        "                if text_parts and len(text_parts) >= 4:\n",
        "                    while text_parts[ind].isupper():\n",
        "                        title += text_parts[ind].strip() + ' '\n",
        "                        ind += 1\n",
        "                    string_words = text_parts[ind].split(' ')\n",
        "                    for word in string_words:\n",
        "                        if word.isupper():\n",
        "                            title += word + ' '\n",
        "                            rest = ''\n",
        "                        else:\n",
        "                            for letter in range(len(word)):\n",
        "                                if letter < len(word) - 3 and word[letter].isupper() and word[letter + 1].isupper() and word[letter + 2].isupper():\n",
        "                                    title += word[letter]\n",
        "                                elif letter < len(word) - 3 and word[letter].isupper() and word[letter + 1].isupper() and not word[letter + 2].isupper():\n",
        "                                    title += word[letter]\n",
        "                                    break\n",
        "                            rest = word[letter + 1:]\n",
        "                            break\n",
        "                    text = rest + ' '.join(text_parts[ind:])\n",
        "                    # writing in dictionary what's left) \n",
        "                    dic_of_json[f'{index}_{j}'] = {'year': j, 'author': name.strip(), 'title': title.strip(), 'affilation': affilation.strip(), 'text': text.strip()}\n",
        "clear_dic_of_json = dict()\n",
        "for item in dic_of_json:  # cleaning the dictionary from residuals\n",
        "    if dic_of_json[item]['title'] and dic_of_json[item]['author'] and dic_of_json[item]['affilation']:\n",
        "        if '(' in dic_of_json[item]['author']:\n",
        "            duplicate = dic_of_json[item]['author'].split('(')\n",
        "            dic_of_json[item]['author'] = duplicate[0]\n",
        "            dic_of_json[item]['title'] = dic_of_json[item]['affilation'] + dic_of_json[item]['title']\n",
        "            dic_of_json[item]['affilation'] = duplicate[1].strip(')')\n",
        "        if not dic_of_json[item]['title'].isupper() or not dic_of_json[item]['author'][0].isupper() or not dic_of_json[item]['affilation'][0].isupper():\n",
        "            continue\n",
        "        clear_dic_of_json[item] = dic_of_json[item]\n",
        "with open('theses.json', 'w', encoding='utf-8') as json_file:  # put dictionary in JSON-file\n",
        "    json.dump(clear_dic_of_json, json_file, indent=4, ensure_ascii=False)"
      ]
    },
    {
      "cell_type": "code",
      "source": [],
      "metadata": {
        "id": "EXNgrh9A2mNL"
      },
      "execution_count": null,
      "outputs": []
    }
  ],
  "metadata": {
    "accelerator": "GPU",
    "colab": {
      "provenance": [],
      "include_colab_link": true
    },
    "kernelspec": {
      "display_name": "Python 3",
      "language": "python",
      "name": "python3"
    },
    "language_info": {
      "codemirror_mode": {
        "name": "ipython",
        "version": 3
      },
      "file_extension": ".py",
      "mimetype": "text/x-python",
      "name": "python",
      "nbconvert_exporter": "python",
      "pygments_lexer": "ipython3",
      "version": "3.8.3"
    }
  },
  "nbformat": 4,
  "nbformat_minor": 0
}