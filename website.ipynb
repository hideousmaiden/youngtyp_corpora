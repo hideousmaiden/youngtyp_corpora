{
 "cells": [
  {
   "cell_type": "code",
   "execution_count": 4,
   "id": "cb447cd0-db94-4482-8912-a16728392550",
   "metadata": {
    "tags": []
   },
   "outputs": [
    {
     "name": "stdout",
     "output_type": "stream",
     "text": [
      " * Serving Flask app \"__main__\" (lazy loading)\n",
      " * Environment: production\n",
      "\u001b[31m   WARNING: This is a development server. Do not use it in a production deployment.\u001b[0m\n",
      "\u001b[2m   Use a production WSGI server instead.\u001b[0m\n",
      " * Debug mode: off\n"
     ]
    },
    {
     "name": "stderr",
     "output_type": "stream",
     "text": [
      "/Users/shikunova/opt/anaconda3/lib/python3.8/site-packages/flask_sqlalchemy/__init__.py:872: FSADeprecationWarning: SQLALCHEMY_TRACK_MODIFICATIONS adds significant overhead and will be disabled by default in the future.  Set it to True or False to suppress this warning.\n",
      "  warnings.warn(FSADeprecationWarning(\n",
      " * Running on http://127.0.0.1:5000/ (Press CTRL+C to quit)\n",
      "127.0.0.1 - - [18/Oct/2022 19:40:51] \"\u001b[37mGET /search_result HTTP/1.1\u001b[0m\" 200 -\n",
      "127.0.0.1 - - [18/Oct/2022 19:55:05] \"\u001b[37mGET / HTTP/1.1\u001b[0m\" 200 -\n",
      "127.0.0.1 - - [18/Oct/2022 19:55:05] \"\u001b[37mGET /static/search.gif HTTP/1.1\u001b[0m\" 200 -\n"
     ]
    }
   ],
   "source": [
    "import sqlite3\n",
    "import pandas as pd\n",
    "import numpy as np\n",
    "from flask import Flask\n",
    "from flask import render_template\n",
    "import sys\n",
    "import os\n",
    "\n",
    "from flask import request, redirect, url_for\n",
    "from sqlalchemy import func\n",
    "from flask_sqlalchemy import SQLAlchemy\n",
    "# from password import password\n",
    "\n",
    "app = Flask(__name__)\n",
    "\n",
    "# create_engine('sqlite:///{}'.format('youngtyp.db'), connect_args={'timeout': 15})\n",
    "DATABASE = 'youngtyp_2.db'\n",
    "app.config['SQLALCHEMY_DATABASE_URI'] = f'sqlite:///{DATABASE}'\n",
    "db = SQLAlchemy(app)\n",
    "app.config['SQLALCHEMY_TRACK_MODIFICATIONS'] = True\n",
    "# keyword = password\n",
    "\n",
    "conn = sqlite3.connect(DATABASE)\n",
    "cur = conn.cursor()\n",
    "\n",
    "#создать таблицы в базе данных\n",
    "\n",
    "cur.execute(\"\"\"\n",
    "CREATE TABLE IF NOT EXISTS searches\n",
    "(id INTEGER PRIMARY KEY AUTOINCREMENT, text text) \n",
    "\"\"\")\n",
    "\n",
    "cur.execute(\"\"\"\n",
    "CREATE TABLE IF NOT EXISTS texts\n",
    "(id_text int, text text)\n",
    "\"\"\")\n",
    "\n",
    "cur.execute(\"\"\"\n",
    "CREATE TABLE IF NOT EXISTS meta\n",
    "(id_text int, author text, topic text, year int, affilation text, contacts text, abbr text) \n",
    "\"\"\")\n",
    "\n",
    "cur.execute(\"\"\"\n",
    "CREATE TABLE IF NOT EXISTS sents \n",
    "(id_text int, id_sent int, sent text) \n",
    "\"\"\")\n",
    "\n",
    "cur.execute(\"\"\"\n",
    "CREATE TABLE IF NOT EXISTS words\n",
    "(id_text int, id_sent int, id_word int, word text, lemma text, pos text)\n",
    "\"\"\")\n",
    "\n",
    "cur.execute(\"\"\"\n",
    "CREATE TABLE IF NOT EXISTS links\n",
    "(id_text int, id_link int, link text) \n",
    "\"\"\")\n",
    "\n",
    "cur.execute(\"\"\"\n",
    "CREATE TABLE IF NOT EXISTS glosses\n",
    "(id_text int, id_gloss int, raw text, gloss text, translation text) \n",
    "\"\"\")\n",
    "\n",
    "# conn.commit()\n",
    "# conn.close()\n",
    "\n",
    "path = ''\n",
    "\n",
    "@app.route('/')\n",
    "def home():\n",
    "    return render_template('home.html')\n",
    "\n",
    "@app.route('/no_result')\n",
    "def no_result():\n",
    "    return render_template('no_result.html')\n",
    "\n",
    "@app.route('/credits')\n",
    "def credits():\n",
    "    return render_template('credits.html')\n",
    "    \n",
    "class Search(db.Model):\n",
    "    __tablename__ = 'searches'\n",
    "    id = db.Column(db.Integer, primary_key=True)\n",
    "    text = db.Column(db.Text)\n",
    "    \n",
    "class Words(db.Model):\n",
    "    __tablename__ = 'words'\n",
    "    id = db.Column(db.Integer, primary_key=True)\n",
    "    id_text = db.Column(db.Integer)\n",
    "    id_sent = db.Column(db.Integer)\n",
    "    id_word = db.Column(db.Integer)\n",
    "    word = db.Column(db.Text)\n",
    "    lemma = db.Column(db.Text)\n",
    "    pos = db.Column(db.Text)\n",
    "        \n",
    "@app.route('/process', methods=['GET', 'POST'])\n",
    "def answer_process():\n",
    "    if request.method == 'POST' or not request.args:\n",
    "        return redirect(url_for('home'))\n",
    "    text = request.args.get('search')\n",
    "    search = Search(\n",
    "        text=text\n",
    "    )\n",
    "    db.session.add(search)\n",
    "    db.session.commit()\n",
    "    db.session.refresh(search)\n",
    "\n",
    "    return redirect(url_for('search_result'))\n",
    "\n",
    "def process_query(query, limit=10):\n",
    "    '''\n",
    "    process CQL query\n",
    "\n",
    "      args:\n",
    "        query: str, CQL query\n",
    "        limit: int, returns first N results\n",
    "\n",
    "      returns:\n",
    "        result: list of dict, list of dictionaries containing found results\n",
    "\n",
    "        keys of each dict:\n",
    "          pattern: str, found pattern\n",
    "          id_sent: int, id of the sentence with the pattern\n",
    "          id_text: int, id of the text with the pattern\n",
    "          id_words: list, list of word indeces\n",
    "    '''\n",
    "    return [{'pattern': 'i sit',\n",
    "        'id_sent': 0,\n",
    "        'id_text': 0,\n",
    "        'id_words': [1, 2]},\n",
    "           \n",
    "           {'pattern': 'i sit',\n",
    "        'id_sent': 0,\n",
    "        'id_text': 0,\n",
    "        'id_words': [1, 2]}]\n",
    "\n",
    "def make_left(sents, id_sent, id_words, length=5):\n",
    "    left = sents[id_sent][:id_words[0]][::-1]\n",
    "    id_sent -= 1\n",
    "    while len(left) < length and id_sent >= 0:\n",
    "        n_needed = length - len(left)\n",
    "        if len(sents[id_sent]) < n_needed:\n",
    "            n_needed = len(sents[id_sent])\n",
    "        fetch = sents[id_sent].split()[-n_needed::]\n",
    "        left += reversed(fetch)\n",
    "        id_sent -= 1\n",
    "    return ' '.join(left[::-1])\n",
    "\n",
    "def make_right(sents, id_sent, id_words, length=5):\n",
    "    right = sents[id_sent][id_words[1]+1:]\n",
    "    id_sent += 1\n",
    "    while len(right) < length and id_sent < len(sents):\n",
    "        n_needed = length - len(right)\n",
    "        if len(sents[id_sent]) < n_needed:\n",
    "            n_needed = len(sents[id_sent])\n",
    "        fetch = sents[id_sent].split()[:n_needed]\n",
    "        right += fetch\n",
    "        id_sent += 1\n",
    "    return ' '.join(right)\n",
    "\n",
    "@app.route('/search_result')\n",
    "def search_result():\n",
    "    text = db.session.query(Search.text).order_by(Search.id.desc()).where(Search.text != None).first()[0]\n",
    "    results = process_query(text)\n",
    "    \n",
    "    outputs = []\n",
    "    for result in results:\n",
    "        id_sents = [ele[0] for ele in db.engine.execute(\n",
    "                f'''\n",
    "                SELECT DISTINCT id_sent FROM words WHERE id_text={result['id_text']}\n",
    "                ''')]\n",
    "        sents = [[ele[0] for ele in db.engine.execute(\n",
    "                f'''\n",
    "                SELECT DISTINCT word FROM words WHERE id_text={result['id_text']}\n",
    "                                            AND id_sent={id_sent}\n",
    "                ''')] for id_sent in id_sents]\n",
    "        \n",
    "        meta = [ele for ele in db.engine.execute(\n",
    "                f'''\n",
    "                SELECT DISTINCT author, topic, year, affilation\n",
    "                FROM meta WHERE id_text={result['id_text']}\n",
    "                ''')][0]\n",
    "\n",
    "        output = dict()\n",
    "        output['right'] = make_right(sents, result['id_sent'], result['id_words'], length=5)\n",
    "        output['left'] = make_left(sents, result['id_sent'], result['id_words'], length=5)\n",
    "        output['pattern'] = result['pattern']\n",
    "        output['author'] = meta[0]\n",
    "        output['topic'] = meta[1]\n",
    "        output['year'] = meta[2]\n",
    "        output['affiliation'] = meta[3]\n",
    "        outputs.append(output)\n",
    "    \n",
    "    if outputs == []:\n",
    "        return render_template('no_result.html')\n",
    "    else:\n",
    "        return render_template('output.html', outputs=outputs)\n",
    "\n",
    "if __name__ == '__main__':\n",
    "    app.run(debug=False)"
   ]
  },
  {
   "cell_type": "code",
   "execution_count": 45,
   "id": "b962aed4-1a1b-45c1-9129-bbdf21449008",
   "metadata": {},
   "outputs": [
    {
     "data": {
      "text/plain": [
       "[]"
      ]
     },
     "execution_count": 45,
     "metadata": {},
     "output_type": "execute_result"
    }
   ],
   "source": [
    "results = [{'pattern': 'i sit',\n",
    "        'id_sent': 0,\n",
    "        'id_text': 0,\n",
    "        'id_words': [1, 2]}]\n",
    "\n",
    "[ele[0] for ele in db.engine.execute(\n",
    "            f'''\n",
    "            SELECT id_sent FROM words WHERE id_text=0\n",
    "            ''')]"
   ]
  },
  {
   "cell_type": "code",
   "execution_count": 86,
   "id": "aff1c94f-6a71-4ea8-8dfe-2a943b720c7e",
   "metadata": {},
   "outputs": [
    {
     "data": {
      "text/plain": [
       "'here i'"
      ]
     },
     "execution_count": 86,
     "metadata": {},
     "output_type": "execute_result"
    }
   ],
   "source": [
    "res = {'pattern': 'to shit',\n",
    "        'id_sent': 0,\n",
    "        'id_text': 0,\n",
    "        'id_words': [1, 2]}\n",
    "sents = ['here i sit', 'broken hearted', 'came to shit but only farted']\n",
    "text = 'here i sit broken hearted came to shit but only farted'\n",
    "\n",
    "def make_left(sents, id_sent, id_text, id_words, length=5):\n",
    "    left = sents[id_sent].split()[:id_words[0]][::-1]\n",
    "    id_sent -= 1\n",
    "    while len(left) < length and id_sent >= 0:\n",
    "        n_needed = length - len(left)\n",
    "        if len(sents[id_sent]) < n_needed:\n",
    "            n_needed = len(sents[id_sent])\n",
    "        fetch = sents[id_sent].split()[-n_needed::]\n",
    "        left += reversed(fetch)\n",
    "        id_sent -= 1\n",
    "    return ' '.join(left[::-1])\n",
    "    \n",
    "make_left(sents, 0, 0, [2, 3])"
   ]
  },
  {
   "cell_type": "code",
   "execution_count": 82,
   "id": "3d9267f7-04b8-4bd7-b217-4e4eac2ef709",
   "metadata": {
    "tags": []
   },
   "outputs": [
    {
     "data": {
      "text/plain": [
       "'sit broken hearted came to'"
      ]
     },
     "execution_count": 82,
     "metadata": {},
     "output_type": "execute_result"
    }
   ],
   "source": [
    "def make_right(sents, id_sent, id_text, id_words, length=5):\n",
    "    right = sents[id_sent].split()[id_words[1]+1:]\n",
    "    id_sent += 1\n",
    "    while len(right) < length and id_sent < len(sents):\n",
    "        n_needed = length - len(right)\n",
    "        if len(sents[id_sent]) < n_needed:\n",
    "            n_needed = len(sents[id_sent])\n",
    "        fetch = sents[id_sent].split()[:n_needed]\n",
    "        right += fetch\n",
    "        id_sent += 1\n",
    "    return ' '.join(right)\n",
    "    \n",
    "make_right(sents, 0, 0, [0, 1])"
   ]
  },
  {
   "cell_type": "code",
   "execution_count": 125,
   "id": "d6354e0f-9fba-40f0-8959-3f654f66268d",
   "metadata": {},
   "outputs": [],
   "source": [
    "DATABASE = 'youngtyp_2.db'\n",
    "con = sqlite3.connect(DATABASE)  # подключение\n",
    "cur = con.cursor()  # курсор"
   ]
  },
  {
   "cell_type": "code",
   "execution_count": 121,
   "id": "6ac73b45-95c9-49ba-b482-056161819cf2",
   "metadata": {},
   "outputs": [
    {
     "data": {
      "text/plain": [
       "[]"
      ]
     },
     "execution_count": 121,
     "metadata": {},
     "output_type": "execute_result"
    }
   ],
   "source": [
    "# texts: id_text, text\n",
    "# meta: id_text, author, topic, year, affilation, contacts, abbr text\n",
    "# links: id_text, id_link, link\n",
    "# glosses: id_text, id_gloss, raw, gloss, translation\n",
    "# sents: id_text, id_sent, sent\n",
    "# words: id_text, id_sent, id_word, word, lemma, pos\n",
    "\n",
    "queries = '''INSERT INTO texts (id_text, text)\n",
    "VALUES (0, 'here i sit broken hearted came to shit but only farted');\n",
    "\n",
    "INSERT INTO sents (id_text, id_sent, sent)\n",
    "VALUES (0, 0, 'here i sit');\n",
    "\n",
    "INSERT INTO sents (id_text, id_sent, sent)\n",
    "VALUES (0, 1, 'broken hearted');\n",
    "\n",
    "INSERT INTO sents (id_text, id_sent, sent)\n",
    "VALUES (0, 2, 'came to shit but only farted');\n",
    "\n",
    "INSERT INTO meta (id_text, author, topic, year, affilation, contacts, abbr)\n",
    "VALUES (0, 'sasha', 'test', 2002, 'HSE', '88005553535', 'A=ass P=pee')'''.split(';\\n\\n')\n",
    "\n",
    "for query in queries:\n",
    "    cur.execute(query)\n",
    "cur.fetchall()"
   ]
  },
  {
   "cell_type": "code",
   "execution_count": 126,
   "id": "b95f65fa-95e3-45ff-ab70-1a78c09241c9",
   "metadata": {},
   "outputs": [
    {
     "data": {
      "text/plain": [
       "[(0, 'sasha', 'test', 2002, 'HSE', '88005553535', 'A=ass P=pee')]"
      ]
     },
     "execution_count": 126,
     "metadata": {},
     "output_type": "execute_result"
    }
   ],
   "source": [
    "cur.execute('select * from meta')\n",
    "cur.fetchall()"
   ]
  },
  {
   "cell_type": "code",
   "execution_count": 124,
   "id": "6fa42593-2be2-44f0-9cf5-3b470ca3c695",
   "metadata": {},
   "outputs": [],
   "source": [
    "con.commit()\n",
    "con.close()"
   ]
  },
  {
   "cell_type": "code",
   "execution_count": null,
   "id": "6e973376-7191-4d65-a3d3-5a4471ece08b",
   "metadata": {},
   "outputs": [],
   "source": []
  }
 ],
 "metadata": {
  "kernelspec": {
   "display_name": "Python 3",
   "language": "python",
   "name": "python3"
  },
  "language_info": {
   "codemirror_mode": {
    "name": "ipython",
    "version": 3
   },
   "file_extension": ".py",
   "mimetype": "text/x-python",
   "name": "python",
   "nbconvert_exporter": "python",
   "pygments_lexer": "ipython3",
   "version": "3.8.8"
  }
 },
 "nbformat": 4,
 "nbformat_minor": 5
}
